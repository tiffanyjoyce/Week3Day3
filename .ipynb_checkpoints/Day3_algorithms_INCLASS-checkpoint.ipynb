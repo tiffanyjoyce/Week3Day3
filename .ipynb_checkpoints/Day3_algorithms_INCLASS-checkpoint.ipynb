{
 "cells": [
  {
   "cell_type": "markdown",
   "metadata": {},
   "source": [
    "# Algorithms, Binary Search & Sorting"
   ]
  },
  {
   "cell_type": "markdown",
   "metadata": {},
   "source": [
    "## Tasks Today:\n",
    " \n",
    "1) <b>In-Place Algorithms</b> <br>\n",
    " &nbsp;&nbsp;&nbsp;&nbsp; a) Syntax <br>\n",
    " &nbsp;&nbsp;&nbsp;&nbsp; a) Out of Place Algorithm <br>\n",
    " &nbsp;&nbsp;&nbsp;&nbsp; b) In-Class Exercise #1 <br>\n",
    "2) <b>Two Pointers</b> <br>\n",
    "3) <b>Sorting Algos</b> <br>\n",
    " &nbsp;&nbsp;&nbsp;&nbsp; a) Video on Algorithms <br>\n",
    " &nbsp;&nbsp;&nbsp;&nbsp; b) How it Works <br>\n",
    "4) <b>Exercises</b> <br>\n",
    " &nbsp;&nbsp;&nbsp;&nbsp; a) Exercise #1 - Reverse a List in Place Using an In-Place Algorithm <br>\n",
    " &nbsp;&nbsp;&nbsp;&nbsp; b) Exercise #2 - Find Distinct Words <br>\n",
    " &nbsp;&nbsp;&nbsp;&nbsp; c) Exercise #3 - Write a program to implement a Linear Search Algorithm. <br>"
   ]
  },
  {
   "cell_type": "markdown",
   "metadata": {},
   "source": [
    "## In-Place Algorithms"
   ]
  },
  {
   "cell_type": "markdown",
   "metadata": {},
   "source": [
    "#### Syntax"
   ]
  },
  {
   "cell_type": "code",
   "execution_count": 1,
   "metadata": {},
   "outputs": [
    {
     "name": "stdout",
     "output_type": "stream",
     "text": [
      "original- [1, 5, 3, 16, 2]\n",
      "After swap- [2, 5, 3, 16, 1]\n"
     ]
    }
   ],
   "source": [
    "# in place modifies data structure vs out of place returns a modified copy\n",
    "#.  0.      1.         1.        0. \n",
    "#var[i], var[i+1] = var[i+1], var[i] --> \n",
    "\n",
    "# def swap(alist, x, y):\n",
    "#     tempa = alist[x]\n",
    "#     tempb = alist[y]\n",
    "#     alist[x] = tempa\n",
    "#     alist[y] = tempb\n",
    "    \n",
    "def swap(alist, x, y):\n",
    "    alist[x], alist[y] = alist[y], alist[x] #in place so no need to assign new variable\n",
    "#.      0 1 2 3  4    \n",
    "nums = [1,5,3,16,2]\n",
    "print(f\"original- {nums}\")\n",
    "\n",
    "swap(nums, 0, 4)\n",
    "print(f\"After swap- {nums}\") \n"
   ]
  },
  {
   "cell_type": "markdown",
   "metadata": {},
   "source": [
    "#### Out of Place Algorithm"
   ]
  },
  {
   "cell_type": "code",
   "execution_count": 2,
   "metadata": {},
   "outputs": [],
   "source": [
    "def swap(alist,x,y):\n",
    "    copy=alist[:]\n",
    "    copy[x], copy[y] = copy[y], copy[x]\n",
    "    return copy\n",
    "print(f\"original - {nums}\")\n",
    "print\n"
   ]
  },
  {
   "cell_type": "markdown",
   "metadata": {},
   "source": [
    "#### In-Class Exercise #1 <br>\n",
    "<p>Write a function that takes in four arguments (list, index1, index2, index3), and swaps those three positions in the list passed in.</p>"
   ]
  },
  {
   "cell_type": "code",
   "execution_count": 7,
   "metadata": {},
   "outputs": [
    {
     "name": "stdout",
     "output_type": "stream",
     "text": [
      "original- [10, 4, 3, 8, 4, 2, 6]\n",
      "after swap- [10, 8, 4, 3, 4, 2, 6]\n"
     ]
    }
   ],
   "source": [
    "def swapThree(blist, x, y, z):\n",
    "    blist[x], blist[y], blist[z]=blist[z], blist[x], blist[y]\n",
    "l_1 = [10, 4, 3, 8, 4, 2, 6]\n",
    "print(f\"original- {l_1}\")\n",
    "swapThree(l_1, 1, 2, 3)\n",
    "print(f\"after swap- {l_1}\")"
   ]
  },
  {
   "cell_type": "markdown",
   "metadata": {},
   "source": [
    "## Two Pointers"
   ]
  },
  {
   "cell_type": "markdown",
   "metadata": {},
   "source": [
    "#### Syntax"
   ]
  },
  {
   "cell_type": "code",
   "execution_count": 8,
   "metadata": {},
   "outputs": [
    {
     "name": "stdout",
     "output_type": "stream",
     "text": [
      "[1, 2, 3, 4, 5]\n",
      "[5, 4, 3, 2, 1]\n"
     ]
    }
   ],
   "source": [
    "nums2 = [1,2,3,4,5]\n",
    "\n",
    "def twoPointer(numlist):\n",
    "    #create our pointers\n",
    "    left=0\n",
    "    right=len(numlist)-1\n",
    "    while left< right:\n",
    "        numlist[left], numlist[right] = numlist[right], numlist[left]\n",
    "        left +=1\n",
    "        right -= 1\n",
    "print(nums2)\n",
    "twoPointer(nums2)\n",
    "print(nums2)"
   ]
  },
  {
   "cell_type": "markdown",
   "metadata": {},
   "source": [
    "#### Video of Algorithms <br>\n",
    "<p>Watch the video about algorithms.</p>\n",
    "\n",
    "https://www.youtube.com/watch?v=Q9HjeFD62Uk\n",
    "\n",
    "https://www.youtube.com/watch?v=kPRA0W1kECg\n",
    "\n",
    "https://www.youtube.com/watch?v=ZZuD6iUe3Pc"
   ]
  },
  {
   "cell_type": "markdown",
   "metadata": {},
   "source": [
    "# Sorting Algorithms"
   ]
  },
  {
   "cell_type": "markdown",
   "metadata": {},
   "source": [
    "#### Bubble Sort\n",
    "\n",
    "Worst Case: O(n^2) Time - O(1) Space"
   ]
  },
  {
   "cell_type": "code",
   "execution_count": 12,
   "metadata": {},
   "outputs": [
    {
     "name": "stdout",
     "output_type": "stream",
     "text": [
      "[5, 3, 84, 65, 10, 91, 2]\n",
      "[2, 3, 5, 10, 65, 84, 91]\n"
     ]
    }
   ],
   "source": [
    "#this is going to be a helper func for us here\n",
    "def swap(alist, x,y):\n",
    "    alist[x], alist[y]= alist[y], alist[x]\n",
    "    \n",
    "# def bubbleSort(arr):\n",
    "#     for x in range(len(arr)):\n",
    "#         count =0\n",
    "#         for i in range(len(arr)-1):\n",
    "#             if arr[i] > arr[i+1]:\n",
    "#                 swap(arr, i, i+1)\n",
    "#             count += 1\n",
    "# nums5 = [5,3,84,65,10,91,2]\n",
    "# bubbleSort(nums5)\n",
    "# print(nums5)\n",
    "\n",
    "def bubbleSortOp(arr):\n",
    "    isSorted = False\n",
    "    while not isSorted:\n",
    "        isSorted = True\n",
    "        for i in range(len(arr)-1): #match the error\n",
    "            if arr[i] > arr[i+1]:\n",
    "                swap(arr, i, i+1)\n",
    "                isSorted = False\n",
    "nums5 = [5,3,84,65,10,91,2]\n",
    "print(nums5)\n",
    "bubbleSortOp(nums5)\n",
    "print(nums5)"
   ]
  },
  {
   "cell_type": "markdown",
   "metadata": {},
   "source": [
    "##### Insertion Sort\n",
    "\n",
    "Worst Case: O(n^2) time - O(1)space"
   ]
  },
  {
   "cell_type": "code",
   "execution_count": 15,
   "metadata": {},
   "outputs": [
    {
     "name": "stdout",
     "output_type": "stream",
     "text": [
      "[55, 1, 99, 65, 41, 3, 6, 74]\n"
     ]
    },
    {
     "ename": "IndexError",
     "evalue": "list index out of range",
     "output_type": "error",
     "traceback": [
      "\u001b[0;31m---------------------------------------------------------------------------\u001b[0m",
      "\u001b[0;31mIndexError\u001b[0m                                Traceback (most recent call last)",
      "\u001b[0;32m/var/folders/b3/pw450tdd0pj60w2bbdnyqd9w0000gn/T/ipykernel_35252/2481201205.py\u001b[0m in \u001b[0;36m<module>\u001b[0;34m\u001b[0m\n\u001b[1;32m     13\u001b[0m \u001b[0;34m\u001b[0m\u001b[0m\n\u001b[1;32m     14\u001b[0m \u001b[0mprint\u001b[0m\u001b[0;34m(\u001b[0m\u001b[0mnums6\u001b[0m\u001b[0;34m)\u001b[0m\u001b[0;34m\u001b[0m\u001b[0;34m\u001b[0m\u001b[0m\n\u001b[0;32m---> 15\u001b[0;31m \u001b[0minsSort\u001b[0m\u001b[0;34m(\u001b[0m\u001b[0mnums6\u001b[0m\u001b[0;34m)\u001b[0m\u001b[0;34m\u001b[0m\u001b[0;34m\u001b[0m\u001b[0m\n\u001b[0m\u001b[1;32m     16\u001b[0m \u001b[0mprint\u001b[0m\u001b[0;34m(\u001b[0m\u001b[0mnums6\u001b[0m\u001b[0;34m)\u001b[0m\u001b[0;34m\u001b[0m\u001b[0;34m\u001b[0m\u001b[0m\n",
      "\u001b[0;32m/var/folders/b3/pw450tdd0pj60w2bbdnyqd9w0000gn/T/ipykernel_35252/2481201205.py\u001b[0m in \u001b[0;36minsSort\u001b[0;34m(arr)\u001b[0m\n\u001b[1;32m      7\u001b[0m         \u001b[0mj\u001b[0m\u001b[0;34m=\u001b[0m\u001b[0mi\u001b[0m\u001b[0;34m\u001b[0m\u001b[0;34m\u001b[0m\u001b[0m\n\u001b[1;32m      8\u001b[0m         \u001b[0;32mwhile\u001b[0m \u001b[0mj\u001b[0m \u001b[0;34m>\u001b[0m \u001b[0;36m0\u001b[0m \u001b[0;32mand\u001b[0m \u001b[0marr\u001b[0m\u001b[0;34m[\u001b[0m\u001b[0mj\u001b[0m\u001b[0;34m]\u001b[0m \u001b[0;34m<\u001b[0m \u001b[0marr\u001b[0m\u001b[0;34m[\u001b[0m\u001b[0mj\u001b[0m\u001b[0;34m-\u001b[0m\u001b[0;36m1\u001b[0m\u001b[0;34m]\u001b[0m\u001b[0;34m:\u001b[0m\u001b[0;34m\u001b[0m\u001b[0;34m\u001b[0m\u001b[0m\n\u001b[0;32m----> 9\u001b[0;31m             \u001b[0mswap\u001b[0m\u001b[0;34m(\u001b[0m\u001b[0mnums\u001b[0m\u001b[0;34m,\u001b[0m \u001b[0mj\u001b[0m\u001b[0;34m,\u001b[0m \u001b[0mj\u001b[0m\u001b[0;34m-\u001b[0m\u001b[0;36m1\u001b[0m\u001b[0;34m)\u001b[0m\u001b[0;34m\u001b[0m\u001b[0;34m\u001b[0m\u001b[0m\n\u001b[0m\u001b[1;32m     10\u001b[0m             \u001b[0mj\u001b[0m\u001b[0;34m-=\u001b[0m\u001b[0;36m1\u001b[0m\u001b[0;34m\u001b[0m\u001b[0;34m\u001b[0m\u001b[0m\n\u001b[1;32m     11\u001b[0m \u001b[0;34m\u001b[0m\u001b[0m\n",
      "\u001b[0;32m/var/folders/b3/pw450tdd0pj60w2bbdnyqd9w0000gn/T/ipykernel_35252/2481201205.py\u001b[0m in \u001b[0;36mswap\u001b[0;34m(alist, x, y)\u001b[0m\n\u001b[1;32m      1\u001b[0m \u001b[0;31m#easily memorized\u001b[0m\u001b[0;34m\u001b[0m\u001b[0;34m\u001b[0m\u001b[0m\n\u001b[1;32m      2\u001b[0m \u001b[0;32mdef\u001b[0m \u001b[0mswap\u001b[0m\u001b[0;34m(\u001b[0m\u001b[0malist\u001b[0m\u001b[0;34m,\u001b[0m \u001b[0mx\u001b[0m\u001b[0;34m,\u001b[0m \u001b[0my\u001b[0m\u001b[0;34m)\u001b[0m\u001b[0;34m:\u001b[0m\u001b[0;34m\u001b[0m\u001b[0;34m\u001b[0m\u001b[0m\n\u001b[0;32m----> 3\u001b[0;31m     \u001b[0malist\u001b[0m\u001b[0;34m[\u001b[0m\u001b[0mx\u001b[0m\u001b[0;34m]\u001b[0m\u001b[0;34m,\u001b[0m \u001b[0malist\u001b[0m\u001b[0;34m[\u001b[0m\u001b[0my\u001b[0m\u001b[0;34m]\u001b[0m \u001b[0;34m=\u001b[0m \u001b[0malist\u001b[0m\u001b[0;34m[\u001b[0m\u001b[0my\u001b[0m\u001b[0;34m]\u001b[0m\u001b[0;34m,\u001b[0m \u001b[0malist\u001b[0m\u001b[0;34m[\u001b[0m\u001b[0mx\u001b[0m\u001b[0;34m]\u001b[0m\u001b[0;34m\u001b[0m\u001b[0;34m\u001b[0m\u001b[0m\n\u001b[0m\u001b[1;32m      4\u001b[0m \u001b[0;34m\u001b[0m\u001b[0m\n\u001b[1;32m      5\u001b[0m \u001b[0;32mdef\u001b[0m \u001b[0minsSort\u001b[0m\u001b[0;34m(\u001b[0m\u001b[0marr\u001b[0m\u001b[0;34m)\u001b[0m\u001b[0;34m:\u001b[0m\u001b[0;34m\u001b[0m\u001b[0;34m\u001b[0m\u001b[0m\n",
      "\u001b[0;31mIndexError\u001b[0m: list index out of range"
     ]
    }
   ],
   "source": [
    "#easily memorized\n",
    "def swap(alist, x, y):\n",
    "    alist[x], alist[y] = alist[y], alist[x]\n",
    "    \n",
    "def insSort(arr):\n",
    "    for i in range(len(arr)):\n",
    "        j=i\n",
    "        while j > 0 and arr[j] < arr[j-1]:\n",
    "            swap(nums, j, j-1)\n",
    "            j-=1\n",
    "\n",
    "nums6 = [55, 1, 99, 65, 41, 3, 6, 74]\n",
    "\n",
    "print(nums6)\n",
    "insSort(nums6)\n",
    "print(nums6)"
   ]
  },
  {
   "cell_type": "markdown",
   "metadata": {},
   "source": [
    "## Merge Sort"
   ]
  },
  {
   "cell_type": "markdown",
   "metadata": {},
   "source": [
    "#### How it Works"
   ]
  },
  {
   "cell_type": "code",
   "execution_count": 18,
   "metadata": {},
   "outputs": [
    {
     "name": "stdout",
     "output_type": "stream",
     "text": [
      "[55, 1, 99, 65, 41, 3, 7, 8, 54, 76, 131, 6, 8]\n",
      "[55, 1, 99, 55, 55, 3, 99, 65, 41, 99, 131, 76, 131]\n"
     ]
    }
   ],
   "source": [
    "# 1. Split everything from middle until we cant go further\n",
    "# 2. from left to right merge groups together\n",
    "# 3. while merging, place each item in correct position within merged group\n",
    "# 4. repeat all the way up the chain\n",
    "\n",
    "def mergeSort(alist): #step1\n",
    "    if len(alist) > 1:\n",
    "        mid = len(alist)//2\n",
    "        lefthalf = alist[:mid] #beginning to mid\n",
    "        righthalf = alist[mid:] #mid to end\n",
    "        \n",
    "        # this is where we make recursive call!\n",
    "        mergeSort(lefthalf)\n",
    "        mergeSort(righthalf)\n",
    "        \n",
    "        #create our pointers\n",
    "        i, j, k = 0, 0, 0\n",
    "        \n",
    "        #step 2: lets compare lefthalf and righthalf\n",
    "        while i< len(lefthalf) and j <len(righthalf):\n",
    "            if lefthalf[i] < righthalf[j]:\n",
    "                alist[k] = lefthalf[i]\n",
    "                i += 1\n",
    "            else:\n",
    "                alist[k] - righthalf[j]\n",
    "                j +=1\n",
    "            k += 1\n",
    "            #step 3 :while merging placement\n",
    "        while i < len(lefthalf):\n",
    "            alist[k] = lefthalf[i]\n",
    "            i+= 1\n",
    "            k+= 1\n",
    "        while j < len(righthalf):\n",
    "            alist[k]= righthalf[j]\n",
    "            j+=1\n",
    "            k+=1\n",
    "            \n",
    "nums7 = [55,1,99,65,41,3,7,8,54,76,131,6,8]\n",
    "print(nums7)\n",
    "mergeSort(nums7)\n",
    "print(nums7)\n",
    "                "
   ]
  },
  {
   "cell_type": "markdown",
   "metadata": {},
   "source": [
    "# Binary Search\n",
    "\n",
    "The Binary Search algorithm works by finding the number in the middle of a given array and comparing it to the target. Given that the array is sorted\n",
    "\n",
    "* The worst case run time for this algorithm is `O(log(n))`"
   ]
  },
  {
   "cell_type": "code",
   "execution_count": 23,
   "metadata": {},
   "outputs": [
    {
     "name": "stdout",
     "output_type": "stream",
     "text": [
      "[2, 3, 5, 10, 65, 84, 91]\n"
     ]
    },
    {
     "data": {
      "text/plain": [
       "'I found your target at index 3'"
      ]
     },
     "execution_count": 23,
     "metadata": {},
     "output_type": "execute_result"
    }
   ],
   "source": [
    "#has to be sorted\n",
    "print(nums5)\n",
    "\n",
    "def binSearch(nums, target):\n",
    "    left= 0\n",
    "    right = len(nums)-1\n",
    "    while left < right:\n",
    "        mid = (left+right)//2\n",
    "        potentialMatch = nums[mid]\n",
    "        if target == potentialMatch:\n",
    "            return f\"I found your target at index {mid}\"\n",
    "        elif target < potentialMatch:\n",
    "            right = mid -1\n",
    "        elif target> potentialMatch:\n",
    "            left = mid + 1\n",
    "    return f\"Sorry, your target isnt there!!\"\n",
    "binSearch(nums5, 10)\n",
    "        "
   ]
  },
  {
   "cell_type": "markdown",
   "metadata": {},
   "source": [
    "# Exercises"
   ]
  },
  {
   "cell_type": "markdown",
   "metadata": {},
   "source": [
    "### Exercise #1 <br>\n",
    "<p>Reverse the list below in-place using an in-place algorithm.<br>For extra credit: Reverse the strings at the same time.</p>"
   ]
  },
  {
   "cell_type": "code",
   "execution_count": 26,
   "metadata": {},
   "outputs": [
    {
     "name": "stdout",
     "output_type": "stream",
     "text": [
      "['this', 'is', 'a', 'sentence', '.']\n",
      "['.', 'sentence', 'a', 'is', 'this']\n"
     ]
    }
   ],
   "source": [
    "words = ['this' , 'is', 'a', 'sentence', '.']\n",
    "\n",
    "def reverseWords(arr):\n",
    "    left=0 #starts left count at zero\n",
    "    right=len(arr)-1 #makes right side the value if the index\n",
    "    while left< right: #while the left side is less than right\n",
    "        arr[left], arr[right] = arr[right], arr[left] #swaps indexes\n",
    "        left +=1 #adds 1 to left\n",
    "        right -= 1 #takes away one from right. continues until all values are swapped and the string is now backwards\n",
    "print(words) #prints the list before the swap\n",
    "reverseWords(words) #runs list through function\n",
    "print(words) #prints backwards list"
   ]
  },
  {
   "cell_type": "markdown",
   "metadata": {},
   "source": [
    "### Exercise #2 <br>\n",
    "<p>Create a function that counts how many distinct words are in the string below, then outputs a dictionary with the words as the key and the value as the amount of times that word appears in the string.<br>Should output:<br>{'a': 5,<br>\n",
    " 'abstract': 1,<br>\n",
    " 'an': 3,<br>\n",
    " 'array': 2, ... etc...</p>"
   ]
  },
  {
   "cell_type": "code",
   "execution_count": 47,
   "metadata": {},
   "outputs": [
    {
     "name": "stdout",
     "output_type": "stream",
     "text": [
      "{'in': 1, 'computing,': 1, 'a': 5, 'hash': 4, 'table': 2, 'map': 2, 'is': 1, 'data': 2, 'structure': 2, 'which': 2, 'implements': 1, 'an': 3, 'associative': 1, 'array': 2, 'abstract': 1, 'type,': 1, 'that': 1, 'can': 2, 'keys': 1, 'to': 2, 'values.': 1, 'uses': 1, 'function': 1, 'compute': 1, 'index': 1, 'into': 1, 'of': 1, 'buckets': 1, 'or': 1, 'slots': 1, 'from': 1, 'the': 1, 'desired': 1, 'value': 1, 'be': 1, 'found': 1}\n"
     ]
    }
   ],
   "source": [
    "a_text = 'In computing, a hash table hash map is a data structure which implements an associative array abstract data type, a structure that can map keys to values. A hash table uses a hash function to compute an index into an array of buckets or slots from which the desired value can be found'\n",
    "\n",
    "def distinctWords(your_string): #function that takes a string\n",
    "    words_dict= dict() #empty dictionary to put our words and count in\n",
    "    split_text = a_text.split(\" \") #splits string into list of words\n",
    "    for x in split_text: #loops through the list of words\n",
    "        if x.lower() in words_dict: #if the word in lower case has already been added to the dictionary\n",
    "            words_dict[x.lower()] += 1 #add one to the count next to word\n",
    "        else: #if the word hasnt been added to the dictinoary yet\n",
    "            words_dict[x.lower()] = 1 #add word and start the count at 1\n",
    "    return words_dict #return the completed dictionary\n",
    "print(distinctWords(a_text)) #print the dictionary"
   ]
  },
  {
   "cell_type": "markdown",
   "metadata": {},
   "source": [
    "## Exercise #3\n",
    "\n",
    "Write a program to implement a Linear Search Algorithm. Also in a comment, write the Time Complexity of the following algorithm.\n",
    "\n",
    "#### Hint: Linear Searching will require searching a list for a given number. "
   ]
  },
  {
   "cell_type": "code",
   "execution_count": 44,
   "metadata": {},
   "outputs": [
    {
     "data": {
      "text/plain": [
       "'66 was found!'"
      ]
     },
     "execution_count": 44,
     "metadata": {},
     "output_type": "execute_result"
    }
   ],
   "source": [
    "def linearSearch(arr,x):\n",
    "\n",
    "    # Going through array sequencially\n",
    "    for i in arr: #loops through each number in the list\n",
    "        if i == x: #if the number is equal to the number we are searching for\n",
    "            return f\"{i} was found!\" #returns value and statement\n",
    "    return \"Number not found\" #if not, returns this statement\n",
    "\n",
    "test_list = [3, 56, 66, 34, 6, 2, 12, 14]\n",
    "num = 66\n",
    "linearSearch(test_list, num)"
   ]
  },
  {
   "cell_type": "code",
   "execution_count": null,
   "metadata": {},
   "outputs": [],
   "source": [
    "#time complexity is O(n) i believe. since it is linear it is only \n",
    "#checking each element of the list once and (in this instance) might \n",
    "#not even have to go through the whole list"
   ]
  }
 ],
 "metadata": {
  "kernelspec": {
   "display_name": "Python 3 (ipykernel)",
   "language": "python",
   "name": "python3"
  },
  "language_info": {
   "codemirror_mode": {
    "name": "ipython",
    "version": 3
   },
   "file_extension": ".py",
   "mimetype": "text/x-python",
   "name": "python",
   "nbconvert_exporter": "python",
   "pygments_lexer": "ipython3",
   "version": "3.9.13"
  }
 },
 "nbformat": 4,
 "nbformat_minor": 2
}
